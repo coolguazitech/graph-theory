{
 "cells": [
  {
   "cell_type": "code",
   "execution_count": 3,
   "metadata": {},
   "outputs": [
    {
     "name": "stdout",
     "output_type": "stream",
     "text": [
      "44\n"
     ]
    }
   ],
   "source": [
    "\"\"\" \n",
    "[Problem Description] Given N nodes with adjacent relationships, how many ways are there from\n",
    "the start node to the end node in exact K steps?\n",
    "\"\"\"\n",
    "\n",
    "# constants to the problem\n",
    "NUM_STEPS = 5\n",
    "START = 1\n",
    "END = 1\n",
    "NUM_NODES = 6\n",
    "ADJACENCY_DICT = {\n",
    "    1: [1, 3, 4, 5],\n",
    "    2: [2, 4],\n",
    "    3: [1, 3, 5],\n",
    "    4: [1, 2, 3, 4],\n",
    "    5: [1, 3, 5],\n",
    "    6: [6]\n",
    "}\n",
    "\n",
    "# initialize the memo for dynamic programming\n",
    "# pad zeros to 0th row and 0th column to make it more intuitive\n",
    "memo = [[0 for _ in range(NUM_STEPS + 1)] for _ in range(NUM_NODES + 1)]\n",
    "memo[START][1] = 1 \n",
    "\n",
    "# dynamically fill up the entries\n",
    "for step in range(2, NUM_STEPS + 1):\n",
    "    for node in range(1, NUM_NODES + 1):\n",
    "        for incoming_node in ADJACENCY_DICT[node]:\n",
    "            memo[node][step] += memo[incoming_node][step - 1]\n",
    "\n",
    "# retrieve the answer\n",
    "print(memo[END][-1])"
   ]
  },
 ],
 "metadata": {
  "kernelspec": {
   "display_name": "Python 3",
   "language": "python",
   "name": "python3"
  },
  "language_info": {
   "codemirror_mode": {
    "name": "ipython",
    "version": 3
   },
   "file_extension": ".py",
   "mimetype": "text/x-python",
   "name": "python",
   "nbconvert_exporter": "python",
   "pygments_lexer": "ipython3",
   "version": "3.8.5"
  }
 },
 "nbformat": 4,
 "nbformat_minor": 4
}
